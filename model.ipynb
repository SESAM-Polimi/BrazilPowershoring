{
 "cells": [
  {
   "cell_type": "markdown",
   "id": "0b66808b",
   "metadata": {},
   "source": [
    "# 1. Import Required Libraries and Set Parameters\n",
    "This cell imports the necessary libraries, sets up warning filters, and defines the year and system to be used in the analysis."
   ]
  },
  {
   "cell_type": "code",
   "execution_count": 3,
   "id": "53af01e8",
   "metadata": {},
   "outputs": [],
   "source": [
    "import os\n",
    "import mario\n",
    "import warnings\n",
    "filters = warnings.filterwarnings(\"ignore\")\n",
    "\n",
    "year = 2020\n",
    "system = \"ixi\""
   ]
  },
  {
   "cell_type": "markdown",
   "id": "2955bc53",
   "metadata": {},
   "source": [
    "# 2. Download EXIOBASE Data\n",
    "This cell downloads the EXIOBASE data for the specified year and system, saving it to the appropriate directory."
   ]
  },
  {
   "cell_type": "code",
   "execution_count": null,
   "id": "fc666995",
   "metadata": {},
   "outputs": [],
   "source": [
    "import requests\n",
    "import os\n",
    "\n",
    "url = f\"https://zenodo.org/records/14869924/files/IOT_{year}_{system}.zip?download=1\"\n",
    "\n",
    "# Create the directory if it doesn't exist\n",
    "output_dir = \"Data/Database\"\n",
    "os.makedirs(output_dir, exist_ok=True)\n",
    "\n",
    "# Download the file\n",
    "response = requests.get(url)\n",
    "if response.status_code == 200:\n",
    "    file_path = os.path.join(output_dir, f\"IOT_{year}_{system}.zip\")\n",
    "    with open(file_path, \"wb\") as file:\n",
    "        file.write(response.content)\n",
    "    print(f\"File downloaded and saved to {file_path}\")\n",
    "else:\n",
    "    print(f\"Failed to download file. Status code: {response.status_code}\")\n"
   ]
  },
  {
   "cell_type": "markdown",
   "id": "ff4a9896",
   "metadata": {},
   "source": [
    "# 3. Parse EXIOBASE Data\n",
    "This cell parses the downloaded EXIOBASE data into a database object for further processing."
   ]
  },
  {
   "cell_type": "code",
   "execution_count": null,
   "id": "57202e36",
   "metadata": {},
   "outputs": [],
   "source": [
    "db = mario.parse_exiobase(\n",
    "    path=f\"Data/Database/IOT_{year}_{system}.zip\", \n",
    "    table='IOT',\n",
    "    unit='Monetary')"
   ]
  },
  {
   "cell_type": "markdown",
   "id": "de6b5c0f",
   "metadata": {},
   "source": [
    "# 4. Prepare Aggregation Files\n",
    "This cell creates the aggregation directory, generates a blank aggregation Excel file, and performs aggregation if the file is available."
   ]
  },
  {
   "cell_type": "code",
   "execution_count": null,
   "id": "43e5816a",
   "metadata": {},
   "outputs": [],
   "source": [
    "aggr_dir = \"Data/Aggregations\"\n",
    "os.makedirs(aggr_dir, exist_ok=True)\n",
    "\n",
    "db.get_aggregation_excel(f\"{aggr_dir}/Aggregation_blank.xlsx\")\n",
    "db.aggregate(f\"{aggr_dir}/Aggregation.xlsx\", ignore_nan = True)"
   ]
  },
  {
   "cell_type": "markdown",
   "id": "0a85d21f",
   "metadata": {},
   "source": [
    "# 5. Export Baseline Data\n",
    "This cell creates the baseline directory and exports the parsed and aggregated data as text files for future use."
   ]
  },
  {
   "cell_type": "code",
   "execution_count": null,
   "id": "df320a28",
   "metadata": {},
   "outputs": [],
   "source": [
    "baseline_dir = \"Data/Database/Baseline\"\n",
    "\n",
    "os.makedirs(f\"Data/Database/Baseline/{year}_{system}\", exist_ok=True)\n",
    "db.to_txt(f\"{baseline_dir}/{year}_{system}\")"
   ]
  },
  {
   "cell_type": "markdown",
   "id": "96c9842c",
   "metadata": {},
   "source": [
    "# 6. Load Baseline Data (Optional)\n",
    "If the baseline data has already been generated, this cell shows how to reload it from the text files."
   ]
  },
  {
   "cell_type": "code",
   "execution_count": 4,
   "id": "da856d7c",
   "metadata": {},
   "outputs": [],
   "source": [
    "# If you already generated the baseline, start from here\n",
    "baseline_dir = \"Data/Database/Baseline\"\n",
    "\n",
    "db = mario.parse_from_txt(\n",
    "    path = f\"{baseline_dir}/{year}_{system}/flows\",\n",
    "    table = \"IOT\",\n",
    "    mode = \"flows\",\n",
    ")"
   ]
  },
  {
   "cell_type": "markdown",
   "id": "2fc27e42",
   "metadata": {},
   "source": [
    "# 7. Prepare Shock Files\n",
    "This cell creates the shocks directory and generates a blank shock Excel file for scenario analysis."
   ]
  },
  {
   "cell_type": "code",
   "execution_count": 5,
   "id": "e5968f35",
   "metadata": {},
   "outputs": [],
   "source": [
    "shock_dir = \"Data/Shocks\"\n",
    "os.makedirs(shock_dir, exist_ok=True)\n",
    "\n",
    "db.get_shock_excel(f\"{shock_dir}/Shock_blank.xlsx\")"
   ]
  },
  {
   "cell_type": "markdown",
   "id": "ec4e1e5b",
   "metadata": {},
   "source": [
    "# 8. Run Scenario Analysis\n",
    "This cell defines scenarios and runs the shock calculations for each scenario using the prepared shock files."
   ]
  },
  {
   "cell_type": "code",
   "execution_count": 6,
   "id": "4eb882c1",
   "metadata": {},
   "outputs": [],
   "source": [
    "scenarios = {\n",
    "    'scenario 1_t': {\"Y\":True, \"z\":True},\n",
    "}\n",
    "\n",
    "for scenario,info in scenarios.items():\n",
    "   db.shock_calc(io=f'{shock_dir}/{scenario}.xlsx',Y=info[\"Y\"],z=info[\"z\"],scenario=scenario, force_rewrite=True)"
   ]
  },
  {
   "cell_type": "markdown",
   "id": "409a0f5d",
   "metadata": {},
   "source": [
    "# 9. Export Results\n",
    "This cell creates the results directory and exports the results of the scenario analysis to SQL and Excel files."
   ]
  },
  {
   "cell_type": "code",
   "execution_count": 7,
   "id": "1ac6d168",
   "metadata": {},
   "outputs": [
    {
     "name": "stdout",
     "output_type": "stream",
     "text": [
      "\n",
      "Matrix: E | Sub-matrix: E | Scenario: baseline... Scenario: scenario 1_t... \n",
      "Matrix: Y | Sub-matrix: Y | Scenario: baseline... Scenario: scenario 1_t... \n",
      "Matrix: V | Sub-matrix: V | Scenario: baseline... Scenario: scenario 1_t... "
     ]
    }
   ],
   "source": [
    "results_dir = f\"Results/{year}_{system}\"\n",
    "os.makedirs(results_dir, exist_ok=True)\n",
    "\n",
    "db.to_sql(\n",
    "    path = results_dir,\n",
    "    matrices = [\"E\",\"Y\",\"V\"],\n",
    "    sets_to_excel=True,\n",
    "    mapping_cols = 2,\n",
    ")"
   ]
  },
  {
   "cell_type": "markdown",
   "id": "78207e56",
   "metadata": {},
   "source": [
    "# End of Workflow\n",
    "The workflow is now complete. You can proceed to analyze the results or visualize them as needed."
   ]
  }
 ],
 "metadata": {
  "kernelspec": {
   "display_name": "mario",
   "language": "python",
   "name": "python3"
  },
  "language_info": {
   "codemirror_mode": {
    "name": "ipython",
    "version": 3
   },
   "file_extension": ".py",
   "mimetype": "text/x-python",
   "name": "python",
   "nbconvert_exporter": "python",
   "pygments_lexer": "ipython3",
   "version": "3.10.14"
  }
 },
 "nbformat": 4,
 "nbformat_minor": 5
}
